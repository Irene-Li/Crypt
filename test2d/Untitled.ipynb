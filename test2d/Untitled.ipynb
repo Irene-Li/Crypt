{
 "cells": [
  {
   "cell_type": "code",
   "execution_count": 49,
   "id": "3439e2ae",
   "metadata": {},
   "outputs": [
    {
     "name": "stderr",
     "output_type": "stream",
     "text": [
      "\n",
      "Bad key \"text.kerning_factor\" on line 4 in\n",
      "/Users/yutingli/opt/anaconda3/lib/python3.7/site-packages/matplotlib/mpl-data/stylelib/_classic_test_patch.mplstyle.\n",
      "You probably need to get an updated matplotlibrc file from\n",
      "https://github.com/matplotlib/matplotlib/blob/v3.1.2/matplotlibrc.template\n",
      "or from the matplotlib source distribution\n"
     ]
    }
   ],
   "source": [
    "import numpy as np\n",
    "from matplotlib import pyplot as plt "
   ]
  },
  {
   "cell_type": "code",
   "execution_count": 94,
   "id": "ad8c56e3",
   "metadata": {},
   "outputs": [],
   "source": [
    "N = 10000\n",
    "A = np.random.normal(size=(N, N))"
   ]
  },
  {
   "cell_type": "code",
   "execution_count": 95,
   "id": "e1c1b7a8",
   "metadata": {},
   "outputs": [],
   "source": [
    "B = np.fft.fft(A)"
   ]
  },
  {
   "cell_type": "code",
   "execution_count": 96,
   "id": "727eabfe",
   "metadata": {},
   "outputs": [
    {
     "data": {
      "image/png": "[encoded data removed]",
      "text/plain": [
       "<Figure size 432x288 with 2 Axes>"
      ]
     },
     "metadata": {
      "needs_background": "light"
     },
     "output_type": "display_data"
    },
    {
     "data": {
      "image/png": "[encoded data removed]",
      "text/plain": [
       "<Figure size 432x288 with 2 Axes>"
      ]
     },
     "metadata": {
      "needs_background": "light"
     },
     "output_type": "display_data"
    }
   ],
   "source": [
    "plt.imshow(B[:, 1:int(N/2)].real-B[:, :int(N/2):-1].real)\n",
    "plt.colorbar() \n",
    "plt.show() \n",
    "\n",
    "plt.imshow(B[:, 1:int(N/2)].imag+B[:, :int(N/2):-1].imag)\n",
    "plt.colorbar() \n",
    "plt.show() "
   ]
  },
  {
   "cell_type": "code",
   "execution_count": 100,
   "id": "9f373311",
   "metadata": {},
   "outputs": [
    {
     "data": {
      "text/plain": [
       "(-0.005074589030009039+0.0011456192578387112j)"
      ]
     },
     "execution_count": 100,
     "metadata": {},
     "output_type": "execute_result"
    }
   ],
   "source": [
    "np.mean(B[:, 1:int(N/2)])"
   ]
  },
  {
   "cell_type": "code",
   "execution_count": 101,
   "id": "31aa1702",
   "metadata": {},
   "outputs": [
    {
     "data": {
      "text/plain": [
       "70.70484764632108"
      ]
     },
     "execution_count": 101,
     "metadata": {},
     "output_type": "execute_result"
    }
   ],
   "source": [
    "np.std(B[:, :int(N/2)].real)"
   ]
  },
  {
   "cell_type": "code",
   "execution_count": 102,
   "id": "903ada02",
   "metadata": {},
   "outputs": [
    {
     "data": {
      "text/plain": [
       "70.71911343662786"
      ]
     },
     "execution_count": 102,
     "metadata": {},
     "output_type": "execute_result"
    }
   ],
   "source": [
    "np.std(B[:, :int(N/2)].imag)"
   ]
  },
  {
   "cell_type": "code",
   "execution_count": 103,
   "id": "78e4d5ef",
   "metadata": {},
   "outputs": [
    {
     "data": {
      "text/plain": [
       "70.71067811865476"
      ]
     },
     "execution_count": 103,
     "metadata": {},
     "output_type": "execute_result"
    }
   ],
   "source": [
    "np.sqrt(N/2)"
   ]
  },
  {
   "cell_type": "code",
   "execution_count": 105,
   "id": "6abd50ed",
   "metadata": {},
   "outputs": [
    {
     "data": {
      "text/plain": [
       "[<matplotlib.lines.Line2D at 0x10c431ed0>]"
      ]
     },
     "execution_count": 105,
     "metadata": {},
     "output_type": "execute_result"
    },
    {
     "data": {
      "image/png": "[encoded data removed]",
      "text/plain": [
       "<Figure size 432x288 with 1 Axes>"
      ]
     },
     "metadata": {
      "needs_background": "light"
     },
     "output_type": "display_data"
    }
   ],
   "source": [
    "plt.plot(B[:, 0].imag)\n",
    "plt.plot(B[:, int(N/2)].imag)"
   ]
  },
  {
   "cell_type": "code",
   "execution_count": null,
   "id": "63ecd710",
   "metadata": {},
   "outputs": [],
   "source": []
  }
 ],
 "metadata": {
  "kernelspec": {
   "display_name": "Python 3",
   "language": "python",
   "name": "python3"
  },
  "language_info": {
   "codemirror_mode": {
    "name": "ipython",
    "version": 3
   },
   "file_extension": ".py",
   "mimetype": "text/x-python",
   "name": "python",
   "nbconvert_exporter": "python",
   "pygments_lexer": "ipython3",
   "version": "3.7.9"
  }
 },
 "nbformat": 4,
 "nbformat_minor": 5
}
